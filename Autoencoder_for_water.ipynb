{
  "nbformat": 4,
  "nbformat_minor": 0,
  "metadata": {
    "colab": {
      "provenance": []
    },
    "kernelspec": {
      "name": "python3",
      "display_name": "Python 3"
    },
    "language_info": {
      "name": "python"
    },
    "accelerator": "GPU"
  },
  "cells": [
    {
      "cell_type": "code",
      "metadata": {
        "id": "_LBxvU1MD7Ew"
      },
      "source": [
        "from pandas import read_csv\n",
        "from tensorflow.keras.models import Sequential\n",
        "from tensorflow.keras.layers import Dense\n",
        "from tensorflow.keras.wrappers.scikit_learn import KerasRegressor\n",
        "from sklearn.model_selection import cross_val_score\n",
        "from sklearn.model_selection import KFold\n",
        "from keras.preprocessing.image import load_img\n",
        "from tensorflow.keras.models import Sequential\n",
        "from tensorflow.keras.layers import Dense\n",
        "from tensorflow.keras.wrappers.scikit_learn import KerasRegressor\n",
        "from sklearn.model_selection import cross_val_score\n",
        "from sklearn.model_selection import KFold\n",
        "from pandas import read_csv\n",
        "from tensorflow.keras.models import Sequential\n",
        "from tensorflow.keras.layers import Dense\n",
        "from tensorflow.keras.wrappers.scikit_learn import KerasRegressor\n",
        "from sklearn.model_selection import cross_val_score\n",
        "from sklearn.model_selection import KFold\n",
        "from tensorflow.keras import Input\n",
        "from tensorflow.keras import Model\n",
        "from tensorflow.keras.layers import BatchNormalization\n",
        "from keras.layers import Conv2D\n",
        "from keras.layers import LeakyReLU\n",
        "from keras.layers import Flatten\n",
        "import numpy as np\n",
        "from keras.layers import Reshape\n",
        "from keras.layers import Conv2DTranspose\n",
        "\n",
        "\n",
        "from pandas import read_csv\n",
        "from tensorflow.keras.models import Sequential\n",
        "from tensorflow.keras.layers import Dense\n",
        "from tensorflow.keras.wrappers.scikit_learn import KerasRegressor\n",
        "from sklearn.model_selection import cross_val_score\n",
        "from sklearn.model_selection import KFold\n",
        "from sklearn.preprocessing import StandardScaler\n",
        "from sklearn.pipeline import Pipeline\n",
        "from tensorflow.keras.optimizers import Adam\n",
        "from tensorflow.keras.layers import BatchNormalization\n",
        "from tensorflow.keras.optimizers import RMSprop\n",
        "from tensorflow.keras.layers import BatchNormalization\n",
        "from tensorflow.keras import Input\n",
        "from tensorflow.keras import Model\n",
        "from tensorflow.keras.datasets import fashion_mnist\n",
        "from tensorflow.keras.layers import BatchNormalization\n",
        "from keras.layers import Conv2D\n",
        "from keras.layers import LeakyReLU\n",
        "from keras.layers import Flatten\n",
        "from keras.layers import Reshape\n",
        "import numpy as np\n",
        "from keras.layers import Conv2DTranspose"
      ],
      "execution_count": null,
      "outputs": []
    },
    {
      "cell_type": "code",
      "metadata": {
        "id": "l0vn4WTYYesa"
      },
      "source": [
        "(x_train,_),(x_test,_)=fashion_mnist.load_data()"
      ],
      "execution_count": null,
      "outputs": []
    },
    {
      "cell_type": "code",
      "metadata": {
        "id": "_ESlRWmSbmHx"
      },
      "source": [],
      "execution_count": null,
      "outputs": []
    },
    {
      "cell_type": "code",
      "metadata": {
        "colab": {
          "base_uri": "https://localhost:8080/"
        },
        "id": "CPETIHnFoazk",
        "outputId": "3831e383-4d22-4609-a853-da6d6b5d40d2"
      },
      "source": [
        "x_train.shape"
      ],
      "execution_count": null,
      "outputs": [
        {
          "output_type": "execute_result",
          "data": {
            "text/plain": [
              "(60000, 28, 28)"
            ]
          },
          "metadata": {},
          "execution_count": 6
        }
      ]
    },
    {
      "cell_type": "code",
      "metadata": {
        "colab": {
          "base_uri": "https://localhost:8080/"
        },
        "id": "DWWkoBjzoa2T",
        "outputId": "a8ff03ab-0590-4a80-c456-4968023be3e9"
      },
      "source": [
        "x_test.shape"
      ],
      "execution_count": null,
      "outputs": [
        {
          "output_type": "execute_result",
          "data": {
            "text/plain": [
              "(10000, 28, 28)"
            ]
          },
          "metadata": {},
          "execution_count": 7
        }
      ]
    },
    {
      "cell_type": "code",
      "metadata": {
        "id": "ap-df41_oa4_"
      },
      "source": [
        "x_train1=x_train/255\n",
        "x_test1=x_test/255\n"
      ],
      "execution_count": null,
      "outputs": []
    },
    {
      "cell_type": "code",
      "metadata": {
        "id": "xohzL41-oa75"
      },
      "source": [
        "x_train1=np.expand_dims(x_train1,axis=-1)\n"
      ],
      "execution_count": null,
      "outputs": []
    },
    {
      "cell_type": "code",
      "metadata": {
        "colab": {
          "base_uri": "https://localhost:8080/"
        },
        "id": "dI3XeS3Foa-R",
        "outputId": "ed9863af-80e4-4b0e-9259-b52ef9b4d647"
      },
      "source": [
        "x_train1.shape"
      ],
      "execution_count": null,
      "outputs": [
        {
          "output_type": "execute_result",
          "data": {
            "text/plain": [
              "(60000, 28, 28, 1)"
            ]
          },
          "metadata": {},
          "execution_count": 10
        }
      ]
    },
    {
      "cell_type": "code",
      "metadata": {
        "colab": {
          "base_uri": "https://localhost:8080/"
        },
        "id": "Kwqher-6obCR",
        "outputId": "98e7cb44-f680-47b4-bf7d-c28767be5ea9"
      },
      "source": [
        "x_test1=np.expand_dims(x_test1,axis=-1)\n",
        "x_test1.shape"
      ],
      "execution_count": null,
      "outputs": [
        {
          "output_type": "execute_result",
          "data": {
            "text/plain": [
              "(10000, 28, 28, 1)"
            ]
          },
          "metadata": {},
          "execution_count": 11
        }
      ]
    },
    {
      "cell_type": "code",
      "metadata": {
        "id": "BwlGuoB7spri"
      },
      "source": [
        "def autoencoder(input_shape=(28,28,1),enco_size=32,alpha=.02):\n",
        "  input=Input(shape=input_shape)\n",
        "  encode=Conv2D(filters=32,kernel_size=(3,3),strides=2,padding='same')(input)\n",
        "  encode=LeakyReLU(alpha=alpha)(encode)\n",
        "  encode=BatchNormalization()(encode)\n",
        "  encode=Conv2D(filters=64,kernel_size=(3,3),strides=2,padding='same')(encode)\n",
        "  encode=LeakyReLU(alpha=alpha)(encode)\n",
        "  encode=BatchNormalization()(encode)\n",
        "  #define output for encoder\n",
        "  out_shape=encode.shape\n",
        "  encode=Flatten()(encode)\n",
        "  out=Dense(enco_size)(encode)\n",
        "  model=Model(input,out)\n",
        "  #decoder\n",
        "  decoder_input=Input(shape=(enco_size,))\n",
        "  target_shape=tuple(out_shape[1:])\n",
        "  decoder=Dense(np.prod(target_shape))(decoder_input)\n",
        "  decoder=Reshape(target_shape)(decoder)\n",
        "  decoder=Conv2DTranspose(filters=64,kernel_size=(3,3),strides=2,padding='same')(decoder)\n",
        "  decoder=LeakyReLU(alpha=alpha)(decoder)\n",
        "  decoder=BatchNormalization()(decoder)\n",
        "  decoder=Conv2DTranspose(filters=32,kernel_size=(3,3),strides=2,padding='same')(decoder)\n",
        "  decoder=LeakyReLU(alpha=alpha)(decoder)\n",
        "  decoder=BatchNormalization()(decoder)\n",
        "  #define output for decoder\n",
        "  decoder_out=Conv2DTranspose(filters=1,kernel_size=(3,3),padding='same',activation=\"sigmoid\")(decoder)\n",
        "  decoder_model=Model(decoder_input,decoder_out)\n",
        "  #define auto encoder\n",
        "  encoded_model_output=model(input)\n",
        "  decoded_model_output=decoder_model(encoded_model_output)\n",
        "  auto=Model(input,decoded_model_output)\n",
        "  return model,decoder_model,auto\n",
        "\n",
        "\n"
      ],
      "execution_count": null,
      "outputs": []
    },
    {
      "cell_type": "code",
      "metadata": {
        "id": "chMaDQrBspuy"
      },
      "source": [
        "encoder,decoder,autoencoder=autoencoder(enco_size=256)"
      ],
      "execution_count": null,
      "outputs": []
    },
    {
      "cell_type": "code",
      "metadata": {
        "id": "nJaq-sOdspy-"
      },
      "source": [
        "autoencoder.compile(optimizer=\"adam\",loss=\"mse\")"
      ],
      "execution_count": null,
      "outputs": []
    },
    {
      "cell_type": "code",
      "metadata": {
        "colab": {
          "base_uri": "https://localhost:8080/"
        },
        "id": "eub-22_ttgee",
        "outputId": "11603792-0b84-470d-df21-1e18c778733a"
      },
      "source": [
        "encoder.summary()"
      ],
      "execution_count": null,
      "outputs": [
        {
          "output_type": "stream",
          "name": "stdout",
          "text": [
            "Model: \"model\"\n",
            "_________________________________________________________________\n",
            " Layer (type)                Output Shape              Param #   \n",
            "=================================================================\n",
            " input_1 (InputLayer)        [(None, 28, 28, 1)]       0         \n",
            "                                                                 \n",
            " conv2d (Conv2D)             (None, 14, 14, 32)        320       \n",
            "                                                                 \n",
            " leaky_re_lu (LeakyReLU)     (None, 14, 14, 32)        0         \n",
            "                                                                 \n",
            " batch_normalization (BatchN  (None, 14, 14, 32)       128       \n",
            " ormalization)                                                   \n",
            "                                                                 \n",
            " conv2d_1 (Conv2D)           (None, 7, 7, 64)          18496     \n",
            "                                                                 \n",
            " leaky_re_lu_1 (LeakyReLU)   (None, 7, 7, 64)          0         \n",
            "                                                                 \n",
            " batch_normalization_1 (Batc  (None, 7, 7, 64)         256       \n",
            " hNormalization)                                                 \n",
            "                                                                 \n",
            " flatten (Flatten)           (None, 3136)              0         \n",
            "                                                                 \n",
            " dense (Dense)               (None, 256)               803072    \n",
            "                                                                 \n",
            "=================================================================\n",
            "Total params: 822,272\n",
            "Trainable params: 822,080\n",
            "Non-trainable params: 192\n",
            "_________________________________________________________________\n"
          ]
        }
      ]
    },
    {
      "cell_type": "code",
      "metadata": {
        "colab": {
          "base_uri": "https://localhost:8080/"
        },
        "id": "k6ReBsQXtgh9",
        "outputId": "4474a4af-e609-45b4-93a0-8bad54b49424"
      },
      "source": [
        "decoder.summary()"
      ],
      "execution_count": null,
      "outputs": [
        {
          "output_type": "stream",
          "name": "stdout",
          "text": [
            "Model: \"model_1\"\n",
            "_________________________________________________________________\n",
            " Layer (type)                Output Shape              Param #   \n",
            "=================================================================\n",
            " input_2 (InputLayer)        [(None, 256)]             0         \n",
            "                                                                 \n",
            " dense_1 (Dense)             (None, 3136)              805952    \n",
            "                                                                 \n",
            " reshape (Reshape)           (None, 7, 7, 64)          0         \n",
            "                                                                 \n",
            " conv2d_transpose (Conv2DTra  (None, 14, 14, 64)       36928     \n",
            " nspose)                                                         \n",
            "                                                                 \n",
            " leaky_re_lu_2 (LeakyReLU)   (None, 14, 14, 64)        0         \n",
            "                                                                 \n",
            " batch_normalization_2 (Batc  (None, 14, 14, 64)       256       \n",
            " hNormalization)                                                 \n",
            "                                                                 \n",
            " conv2d_transpose_1 (Conv2DT  (None, 28, 28, 32)       18464     \n",
            " ranspose)                                                       \n",
            "                                                                 \n",
            " leaky_re_lu_3 (LeakyReLU)   (None, 28, 28, 32)        0         \n",
            "                                                                 \n",
            " batch_normalization_3 (Batc  (None, 28, 28, 32)       128       \n",
            " hNormalization)                                                 \n",
            "                                                                 \n",
            " conv2d_transpose_2 (Conv2DT  (None, 28, 28, 1)        289       \n",
            " ranspose)                                                       \n",
            "                                                                 \n",
            "=================================================================\n",
            "Total params: 862,017\n",
            "Trainable params: 861,825\n",
            "Non-trainable params: 192\n",
            "_________________________________________________________________\n"
          ]
        }
      ]
    },
    {
      "cell_type": "code",
      "metadata": {
        "colab": {
          "base_uri": "https://localhost:8080/"
        },
        "id": "HRsdwtpysp2y",
        "outputId": "71bc9f89-5128-47f8-b1cd-2a4763c3257b"
      },
      "source": [
        "autoencoder.summary()"
      ],
      "execution_count": null,
      "outputs": [
        {
          "output_type": "stream",
          "name": "stdout",
          "text": [
            "Model: \"model_2\"\n",
            "_________________________________________________________________\n",
            " Layer (type)                Output Shape              Param #   \n",
            "=================================================================\n",
            " input_1 (InputLayer)        [(None, 28, 28, 1)]       0         \n",
            "                                                                 \n",
            " model (Functional)          (None, 256)               822272    \n",
            "                                                                 \n",
            " model_1 (Functional)        (None, 28, 28, 1)         862017    \n",
            "                                                                 \n",
            "=================================================================\n",
            "Total params: 1,684,289\n",
            "Trainable params: 1,683,905\n",
            "Non-trainable params: 384\n",
            "_________________________________________________________________\n"
          ]
        }
      ]
    },
    {
      "cell_type": "code",
      "metadata": {
        "colab": {
          "base_uri": "https://localhost:8080/"
        },
        "id": "HCzx-D0_sp5L",
        "outputId": "cd8ab40a-0779-4701-b1d7-e6d108418898"
      },
      "source": [
        "history=autoencoder.fit(x_train1,x_train1,epochs=150,batch_size=1024,validation_data=(x_test1,x_test1))"
      ],
      "execution_count": null,
      "outputs": [
        {
          "output_type": "stream",
          "name": "stdout",
          "text": [
            "Epoch 1/150\n",
            "59/59 [==============================] - 20s 154ms/step - loss: 0.0436 - val_loss: 0.1128\n",
            "Epoch 2/150\n",
            "59/59 [==============================] - 8s 138ms/step - loss: 0.0157 - val_loss: 0.1082\n",
            "Epoch 3/150\n",
            "59/59 [==============================] - 8s 137ms/step - loss: 0.0106 - val_loss: 0.0942\n",
            "Epoch 4/150\n",
            "59/59 [==============================] - 8s 137ms/step - loss: 0.0085 - val_loss: 0.0796\n",
            "Epoch 5/150\n",
            "59/59 [==============================] - 8s 137ms/step - loss: 0.0069 - val_loss: 0.0607\n",
            "Epoch 6/150\n",
            "59/59 [==============================] - 8s 137ms/step - loss: 0.0060 - val_loss: 0.0389\n",
            "Epoch 7/150\n",
            "59/59 [==============================] - 8s 137ms/step - loss: 0.0053 - val_loss: 0.0245\n",
            "Epoch 8/150\n",
            "59/59 [==============================] - 8s 137ms/step - loss: 0.0048 - val_loss: 0.0148\n",
            "Epoch 9/150\n",
            "59/59 [==============================] - 8s 139ms/step - loss: 0.0044 - val_loss: 0.0074\n",
            "Epoch 10/150\n",
            "59/59 [==============================] - 8s 137ms/step - loss: 0.0041 - val_loss: 0.0049\n",
            "Epoch 11/150\n",
            "59/59 [==============================] - 8s 137ms/step - loss: 0.0038 - val_loss: 0.0041\n",
            "Epoch 12/150\n",
            "59/59 [==============================] - 8s 137ms/step - loss: 0.0036 - val_loss: 0.0038\n",
            "Epoch 13/150\n",
            "59/59 [==============================] - 8s 137ms/step - loss: 0.0034 - val_loss: 0.0036\n",
            "Epoch 14/150\n",
            "59/59 [==============================] - 8s 137ms/step - loss: 0.0033 - val_loss: 0.0041\n",
            "Epoch 15/150\n",
            "59/59 [==============================] - 8s 137ms/step - loss: 0.0032 - val_loss: 0.0037\n",
            "Epoch 16/150\n",
            "59/59 [==============================] - 8s 137ms/step - loss: 0.0029 - val_loss: 0.0038\n",
            "Epoch 17/150\n",
            "59/59 [==============================] - 8s 137ms/step - loss: 0.0029 - val_loss: 0.0035\n",
            "Epoch 18/150\n",
            "59/59 [==============================] - 8s 136ms/step - loss: 0.0027 - val_loss: 0.0034\n",
            "Epoch 19/150\n",
            "59/59 [==============================] - 8s 137ms/step - loss: 0.0026 - val_loss: 0.0034\n",
            "Epoch 20/150\n",
            "59/59 [==============================] - 8s 137ms/step - loss: 0.0025 - val_loss: 0.0032\n",
            "Epoch 21/150\n",
            "59/59 [==============================] - 8s 137ms/step - loss: 0.0025 - val_loss: 0.0032\n",
            "Epoch 22/150\n",
            "59/59 [==============================] - 8s 137ms/step - loss: 0.0025 - val_loss: 0.0028\n",
            "Epoch 23/150\n",
            "59/59 [==============================] - 8s 137ms/step - loss: 0.0024 - val_loss: 0.0027\n",
            "Epoch 24/150\n",
            "59/59 [==============================] - 8s 137ms/step - loss: 0.0023 - val_loss: 0.0033\n",
            "Epoch 25/150\n",
            "59/59 [==============================] - 8s 139ms/step - loss: 0.0023 - val_loss: 0.0031\n",
            "Epoch 26/150\n",
            "59/59 [==============================] - 8s 137ms/step - loss: 0.0022 - val_loss: 0.0024\n",
            "Epoch 27/150\n",
            "59/59 [==============================] - 8s 137ms/step - loss: 0.0022 - val_loss: 0.0026\n",
            "Epoch 28/150\n",
            "59/59 [==============================] - 8s 138ms/step - loss: 0.0021 - val_loss: 0.0027\n",
            "Epoch 29/150\n",
            "59/59 [==============================] - 8s 137ms/step - loss: 0.0021 - val_loss: 0.0024\n",
            "Epoch 30/150\n",
            "59/59 [==============================] - 8s 138ms/step - loss: 0.0021 - val_loss: 0.0024\n",
            "Epoch 31/150\n",
            "59/59 [==============================] - 8s 138ms/step - loss: 0.0020 - val_loss: 0.0024\n",
            "Epoch 32/150\n",
            "59/59 [==============================] - 8s 138ms/step - loss: 0.0020 - val_loss: 0.0022\n",
            "Epoch 33/150\n",
            "59/59 [==============================] - 8s 138ms/step - loss: 0.0020 - val_loss: 0.0022\n",
            "Epoch 34/150\n",
            "59/59 [==============================] - 8s 138ms/step - loss: 0.0019 - val_loss: 0.0024\n",
            "Epoch 35/150\n",
            "59/59 [==============================] - 8s 137ms/step - loss: 0.0020 - val_loss: 0.0021\n",
            "Epoch 36/150\n",
            "59/59 [==============================] - 8s 138ms/step - loss: 0.0019 - val_loss: 0.0024\n",
            "Epoch 37/150\n",
            "59/59 [==============================] - 8s 137ms/step - loss: 0.0019 - val_loss: 0.0021\n",
            "Epoch 38/150\n",
            "59/59 [==============================] - 8s 137ms/step - loss: 0.0019 - val_loss: 0.0021\n",
            "Epoch 39/150\n",
            "59/59 [==============================] - 8s 137ms/step - loss: 0.0019 - val_loss: 0.0020\n",
            "Epoch 40/150\n",
            "59/59 [==============================] - 8s 137ms/step - loss: 0.0019 - val_loss: 0.0021\n",
            "Epoch 41/150\n",
            "59/59 [==============================] - 8s 137ms/step - loss: 0.0018 - val_loss: 0.0020\n",
            "Epoch 42/150\n",
            "59/59 [==============================] - 8s 138ms/step - loss: 0.0019 - val_loss: 0.0020\n",
            "Epoch 43/150\n",
            "59/59 [==============================] - 8s 137ms/step - loss: 0.0018 - val_loss: 0.0020\n",
            "Epoch 44/150\n",
            "59/59 [==============================] - 8s 137ms/step - loss: 0.0018 - val_loss: 0.0020\n",
            "Epoch 45/150\n",
            "59/59 [==============================] - 8s 137ms/step - loss: 0.0018 - val_loss: 0.0020\n",
            "Epoch 46/150\n",
            "59/59 [==============================] - 8s 137ms/step - loss: 0.0017 - val_loss: 0.0020\n",
            "Epoch 47/150\n",
            "59/59 [==============================] - 8s 137ms/step - loss: 0.0017 - val_loss: 0.0019\n",
            "Epoch 48/150\n",
            "59/59 [==============================] - 8s 136ms/step - loss: 0.0017 - val_loss: 0.0020\n",
            "Epoch 49/150\n",
            "59/59 [==============================] - 8s 136ms/step - loss: 0.0018 - val_loss: 0.0019\n",
            "Epoch 50/150\n",
            "59/59 [==============================] - 8s 139ms/step - loss: 0.0017 - val_loss: 0.0020\n",
            "Epoch 51/150\n",
            "59/59 [==============================] - 8s 137ms/step - loss: 0.0018 - val_loss: 0.0019\n",
            "Epoch 52/150\n",
            "59/59 [==============================] - 8s 137ms/step - loss: 0.0017 - val_loss: 0.0019\n",
            "Epoch 53/150\n",
            "59/59 [==============================] - 8s 137ms/step - loss: 0.0017 - val_loss: 0.0018\n",
            "Epoch 54/150\n",
            "59/59 [==============================] - 8s 137ms/step - loss: 0.0016 - val_loss: 0.0019\n",
            "Epoch 55/150\n",
            "59/59 [==============================] - 8s 137ms/step - loss: 0.0017 - val_loss: 0.0021\n",
            "Epoch 56/150\n",
            "59/59 [==============================] - 8s 140ms/step - loss: 0.0016 - val_loss: 0.0017\n",
            "Epoch 57/150\n",
            "59/59 [==============================] - 8s 137ms/step - loss: 0.0016 - val_loss: 0.0019\n",
            "Epoch 58/150\n",
            "59/59 [==============================] - 8s 137ms/step - loss: 0.0016 - val_loss: 0.0017\n",
            "Epoch 59/150\n",
            "59/59 [==============================] - 8s 137ms/step - loss: 0.0016 - val_loss: 0.0018\n",
            "Epoch 60/150\n",
            "59/59 [==============================] - 8s 137ms/step - loss: 0.0016 - val_loss: 0.0018\n",
            "Epoch 61/150\n",
            "59/59 [==============================] - 8s 137ms/step - loss: 0.0016 - val_loss: 0.0018\n",
            "Epoch 62/150\n",
            "59/59 [==============================] - 8s 137ms/step - loss: 0.0016 - val_loss: 0.0019\n",
            "Epoch 63/150\n",
            "59/59 [==============================] - 8s 137ms/step - loss: 0.0016 - val_loss: 0.0017\n",
            "Epoch 64/150\n",
            "59/59 [==============================] - 8s 137ms/step - loss: 0.0015 - val_loss: 0.0018\n",
            "Epoch 65/150\n",
            "59/59 [==============================] - 8s 137ms/step - loss: 0.0016 - val_loss: 0.0018\n",
            "Epoch 66/150\n",
            "59/59 [==============================] - 8s 138ms/step - loss: 0.0015 - val_loss: 0.0017\n",
            "Epoch 67/150\n",
            "59/59 [==============================] - 8s 137ms/step - loss: 0.0016 - val_loss: 0.0018\n",
            "Epoch 68/150\n",
            "59/59 [==============================] - 8s 138ms/step - loss: 0.0015 - val_loss: 0.0017\n",
            "Epoch 69/150\n",
            "59/59 [==============================] - 8s 137ms/step - loss: 0.0015 - val_loss: 0.0017\n",
            "Epoch 70/150\n",
            "59/59 [==============================] - 8s 138ms/step - loss: 0.0016 - val_loss: 0.0017\n",
            "Epoch 71/150\n",
            "59/59 [==============================] - 8s 138ms/step - loss: 0.0015 - val_loss: 0.0017\n",
            "Epoch 72/150\n",
            "59/59 [==============================] - 8s 139ms/step - loss: 0.0015 - val_loss: 0.0018\n",
            "Epoch 73/150\n",
            "59/59 [==============================] - 8s 137ms/step - loss: 0.0015 - val_loss: 0.0016\n",
            "Epoch 74/150\n",
            "59/59 [==============================] - 8s 138ms/step - loss: 0.0016 - val_loss: 0.0017\n",
            "Epoch 75/150\n",
            "59/59 [==============================] - 8s 137ms/step - loss: 0.0015 - val_loss: 0.0017\n",
            "Epoch 76/150\n",
            "59/59 [==============================] - 8s 137ms/step - loss: 0.0015 - val_loss: 0.0017\n",
            "Epoch 77/150\n",
            "59/59 [==============================] - 8s 137ms/step - loss: 0.0015 - val_loss: 0.0018\n",
            "Epoch 78/150\n",
            "59/59 [==============================] - 8s 137ms/step - loss: 0.0015 - val_loss: 0.0017\n",
            "Epoch 79/150\n",
            "59/59 [==============================] - 8s 136ms/step - loss: 0.0014 - val_loss: 0.0016\n",
            "Epoch 80/150\n",
            "59/59 [==============================] - 8s 137ms/step - loss: 0.0015 - val_loss: 0.0018\n",
            "Epoch 81/150\n",
            "59/59 [==============================] - 8s 136ms/step - loss: 0.0015 - val_loss: 0.0017\n",
            "Epoch 82/150\n",
            "59/59 [==============================] - 8s 137ms/step - loss: 0.0015 - val_loss: 0.0016\n",
            "Epoch 83/150\n",
            "59/59 [==============================] - 8s 137ms/step - loss: 0.0014 - val_loss: 0.0017\n",
            "Epoch 84/150\n",
            "59/59 [==============================] - 8s 137ms/step - loss: 0.0015 - val_loss: 0.0018\n",
            "Epoch 85/150\n",
            "59/59 [==============================] - 8s 136ms/step - loss: 0.0015 - val_loss: 0.0016\n",
            "Epoch 86/150\n",
            "59/59 [==============================] - 8s 136ms/step - loss: 0.0014 - val_loss: 0.0016\n",
            "Epoch 87/150\n",
            "59/59 [==============================] - 8s 137ms/step - loss: 0.0014 - val_loss: 0.0016\n",
            "Epoch 88/150\n",
            "59/59 [==============================] - 8s 137ms/step - loss: 0.0014 - val_loss: 0.0017\n",
            "Epoch 89/150\n",
            "59/59 [==============================] - 8s 137ms/step - loss: 0.0014 - val_loss: 0.0017\n",
            "Epoch 90/150\n",
            "59/59 [==============================] - 8s 137ms/step - loss: 0.0014 - val_loss: 0.0016\n",
            "Epoch 91/150\n",
            "59/59 [==============================] - 8s 137ms/step - loss: 0.0014 - val_loss: 0.0016\n",
            "Epoch 92/150\n",
            "59/59 [==============================] - 8s 138ms/step - loss: 0.0014 - val_loss: 0.0016\n",
            "Epoch 93/150\n",
            "59/59 [==============================] - 8s 137ms/step - loss: 0.0014 - val_loss: 0.0016\n",
            "Epoch 94/150\n",
            "59/59 [==============================] - 8s 137ms/step - loss: 0.0014 - val_loss: 0.0016\n",
            "Epoch 95/150\n",
            "59/59 [==============================] - 8s 138ms/step - loss: 0.0014 - val_loss: 0.0016\n",
            "Epoch 96/150\n",
            "59/59 [==============================] - 8s 138ms/step - loss: 0.0014 - val_loss: 0.0016\n",
            "Epoch 97/150\n",
            "59/59 [==============================] - 8s 137ms/step - loss: 0.0014 - val_loss: 0.0017\n",
            "Epoch 98/150\n",
            "59/59 [==============================] - 8s 137ms/step - loss: 0.0014 - val_loss: 0.0016\n",
            "Epoch 99/150\n",
            "59/59 [==============================] - 8s 137ms/step - loss: 0.0014 - val_loss: 0.0017\n",
            "Epoch 100/150\n",
            "59/59 [==============================] - 8s 137ms/step - loss: 0.0014 - val_loss: 0.0017\n",
            "Epoch 101/150\n",
            "59/59 [==============================] - 8s 137ms/step - loss: 0.0014 - val_loss: 0.0016\n",
            "Epoch 102/150\n",
            "59/59 [==============================] - 8s 137ms/step - loss: 0.0014 - val_loss: 0.0016\n",
            "Epoch 103/150\n",
            "59/59 [==============================] - 8s 138ms/step - loss: 0.0013 - val_loss: 0.0016\n",
            "Epoch 104/150\n",
            "59/59 [==============================] - 8s 138ms/step - loss: 0.0013 - val_loss: 0.0017\n",
            "Epoch 105/150\n",
            "59/59 [==============================] - 8s 137ms/step - loss: 0.0014 - val_loss: 0.0016\n",
            "Epoch 106/150\n",
            "59/59 [==============================] - 8s 137ms/step - loss: 0.0014 - val_loss: 0.0016\n",
            "Epoch 107/150\n",
            "59/59 [==============================] - 8s 137ms/step - loss: 0.0013 - val_loss: 0.0016\n",
            "Epoch 108/150\n",
            "59/59 [==============================] - 8s 137ms/step - loss: 0.0013 - val_loss: 0.0016\n",
            "Epoch 109/150\n",
            "59/59 [==============================] - 8s 137ms/step - loss: 0.0013 - val_loss: 0.0016\n",
            "Epoch 110/150\n",
            "59/59 [==============================] - 8s 137ms/step - loss: 0.0013 - val_loss: 0.0016\n",
            "Epoch 111/150\n",
            "59/59 [==============================] - 8s 137ms/step - loss: 0.0013 - val_loss: 0.0015\n",
            "Epoch 112/150\n",
            "59/59 [==============================] - 8s 138ms/step - loss: 0.0013 - val_loss: 0.0016\n",
            "Epoch 113/150\n",
            "59/59 [==============================] - 8s 137ms/step - loss: 0.0013 - val_loss: 0.0017\n",
            "Epoch 114/150\n",
            "59/59 [==============================] - 8s 137ms/step - loss: 0.0013 - val_loss: 0.0015\n",
            "Epoch 115/150\n",
            "59/59 [==============================] - 8s 138ms/step - loss: 0.0013 - val_loss: 0.0016\n",
            "Epoch 116/150\n",
            "59/59 [==============================] - 8s 137ms/step - loss: 0.0013 - val_loss: 0.0015\n",
            "Epoch 117/150\n",
            "59/59 [==============================] - 8s 137ms/step - loss: 0.0013 - val_loss: 0.0016\n",
            "Epoch 118/150\n",
            "59/59 [==============================] - 8s 137ms/step - loss: 0.0013 - val_loss: 0.0015\n",
            "Epoch 119/150\n",
            "59/59 [==============================] - 8s 137ms/step - loss: 0.0013 - val_loss: 0.0015\n",
            "Epoch 120/150\n",
            "59/59 [==============================] - 8s 139ms/step - loss: 0.0013 - val_loss: 0.0015\n",
            "Epoch 121/150\n",
            "59/59 [==============================] - 8s 137ms/step - loss: 0.0013 - val_loss: 0.0017\n",
            "Epoch 122/150\n",
            "59/59 [==============================] - 8s 137ms/step - loss: 0.0013 - val_loss: 0.0015\n",
            "Epoch 123/150\n",
            "59/59 [==============================] - 8s 137ms/step - loss: 0.0013 - val_loss: 0.0017\n",
            "Epoch 124/150\n",
            "59/59 [==============================] - 8s 137ms/step - loss: 0.0013 - val_loss: 0.0015\n",
            "Epoch 125/150\n",
            "59/59 [==============================] - 8s 137ms/step - loss: 0.0012 - val_loss: 0.0015\n",
            "Epoch 126/150\n",
            "59/59 [==============================] - 8s 137ms/step - loss: 0.0013 - val_loss: 0.0015\n",
            "Epoch 127/150\n",
            "59/59 [==============================] - 8s 137ms/step - loss: 0.0013 - val_loss: 0.0015\n",
            "Epoch 128/150\n",
            "59/59 [==============================] - 8s 137ms/step - loss: 0.0013 - val_loss: 0.0015\n",
            "Epoch 129/150\n",
            "59/59 [==============================] - 8s 137ms/step - loss: 0.0012 - val_loss: 0.0015\n",
            "Epoch 130/150\n",
            "59/59 [==============================] - 8s 144ms/step - loss: 0.0012 - val_loss: 0.0016\n",
            "Epoch 131/150\n",
            "59/59 [==============================] - 8s 137ms/step - loss: 0.0013 - val_loss: 0.0015\n",
            "Epoch 132/150\n",
            "59/59 [==============================] - 8s 137ms/step - loss: 0.0012 - val_loss: 0.0016\n",
            "Epoch 133/150\n",
            "59/59 [==============================] - 8s 137ms/step - loss: 0.0013 - val_loss: 0.0015\n",
            "Epoch 134/150\n",
            "59/59 [==============================] - 8s 137ms/step - loss: 0.0013 - val_loss: 0.0016\n",
            "Epoch 135/150\n",
            "59/59 [==============================] - 8s 137ms/step - loss: 0.0012 - val_loss: 0.0015\n",
            "Epoch 136/150\n",
            "59/59 [==============================] - 8s 137ms/step - loss: 0.0012 - val_loss: 0.0015\n",
            "Epoch 137/150\n",
            "59/59 [==============================] - 8s 138ms/step - loss: 0.0012 - val_loss: 0.0015\n",
            "Epoch 138/150\n",
            "59/59 [==============================] - 8s 140ms/step - loss: 0.0012 - val_loss: 0.0015\n",
            "Epoch 139/150\n",
            "59/59 [==============================] - 8s 138ms/step - loss: 0.0012 - val_loss: 0.0015\n",
            "Epoch 140/150\n",
            "59/59 [==============================] - 8s 139ms/step - loss: 0.0012 - val_loss: 0.0016\n",
            "Epoch 141/150\n",
            "59/59 [==============================] - 8s 138ms/step - loss: 0.0012 - val_loss: 0.0015\n",
            "Epoch 142/150\n",
            "59/59 [==============================] - 8s 138ms/step - loss: 0.0012 - val_loss: 0.0016\n",
            "Epoch 143/150\n",
            "59/59 [==============================] - 8s 138ms/step - loss: 0.0012 - val_loss: 0.0015\n",
            "Epoch 144/150\n",
            "59/59 [==============================] - 8s 140ms/step - loss: 0.0012 - val_loss: 0.0015\n",
            "Epoch 145/150\n",
            "59/59 [==============================] - 8s 138ms/step - loss: 0.0012 - val_loss: 0.0015\n",
            "Epoch 146/150\n",
            "59/59 [==============================] - 8s 140ms/step - loss: 0.0012 - val_loss: 0.0016\n",
            "Epoch 147/150\n",
            "59/59 [==============================] - 8s 138ms/step - loss: 0.0012 - val_loss: 0.0016\n",
            "Epoch 148/150\n",
            "59/59 [==============================] - 8s 137ms/step - loss: 0.0012 - val_loss: 0.0016\n",
            "Epoch 149/150\n",
            "59/59 [==============================] - 8s 138ms/step - loss: 0.0012 - val_loss: 0.0015\n",
            "Epoch 150/150\n",
            "59/59 [==============================] - 8s 137ms/step - loss: 0.0012 - val_loss: 0.0016\n"
          ]
        }
      ]
    },
    {
      "cell_type": "code",
      "metadata": {
        "id": "EESMniU7yrVO",
        "colab": {
          "base_uri": "https://localhost:8080/",
          "height": 181
        },
        "outputId": "a14cca45-fef4-4514-ad95-5495638a0bdb"
      },
      "source": [
        "import matplotlib.pyplot as plt\n",
        "\n",
        "plt.subplot(211)\n",
        "plt.title(\"MSE\")\n",
        "plt.plot(history.history[\"loss\"], color=\"blue\", label=\"train\")\n",
        "plt.plot(history.history[\"val_loss\"], color=\"orange\", label=\"test\")"
      ],
      "execution_count": null,
      "outputs": [
        {
          "output_type": "execute_result",
          "data": {
            "text/plain": [
              "[<matplotlib.lines.Line2D at 0x7f3642206a10>]"
            ]
          },
          "metadata": {},
          "execution_count": 16
        },
        {
          "output_type": "display_data",
          "data": {
            "image/png": "[encoded data removed]",
            "text/plain": [
              "<Figure size 432x288 with 1 Axes>"
            ]
          },
          "metadata": {
            "needs_background": "light"
          }
        }
      ]
    },
    {
      "cell_type": "code",
      "metadata": {
        "colab": {
          "base_uri": "https://localhost:8080/"
        },
        "id": "WRqeIv_e6bOY",
        "outputId": "3a2b5189-be9e-4451-d423-4c93f4fd7abe"
      },
      "source": [
        "#Sending info\n",
        "x_test[0].shape"
      ],
      "execution_count": null,
      "outputs": [
        {
          "output_type": "execute_result",
          "data": {
            "text/plain": [
              "(28, 28)"
            ]
          },
          "metadata": {},
          "execution_count": 20
        }
      ]
    },
    {
      "cell_type": "code",
      "metadata": {
        "colab": {
          "base_uri": "https://localhost:8080/",
          "height": 282
        },
        "id": "ZfSwaczo6pWE",
        "outputId": "505ef045-0d16-4d36-dcc3-44fc691c5c4a"
      },
      "source": [
        "import matplotlib.pyplot as plt\n",
        "\n",
        "plt.imshow(x_test[0])"
      ],
      "execution_count": null,
      "outputs": [
        {
          "output_type": "execute_result",
          "data": {
            "text/plain": [
              "<matplotlib.image.AxesImage at 0x7fa506ae6690>"
            ]
          },
          "metadata": {},
          "execution_count": 21
        },
        {
          "output_type": "display_data",
          "data": {
            "text/plain": [
              "<Figure size 432x288 with 1 Axes>"
            ],
            "image/png": "[encoded data removed]"
          },
          "metadata": {
            "needs_background": "light"
          }
        }
      ]
    },
    {
      "cell_type": "code",
      "source": [
        "#Plot Sending Information"
      ],
      "metadata": {
        "id": "TyTJflYyDMLF"
      },
      "execution_count": null,
      "outputs": []
    },
    {
      "cell_type": "code",
      "source": [
        "plt.imshow(x_test[0])"
      ],
      "metadata": {
        "colab": {
          "base_uri": "https://localhost:8080/",
          "height": 282
        },
        "id": "vgXrbv26DWUF",
        "outputId": "208c24b2-4f82-470d-9615-d1e93d2670b4"
      },
      "execution_count": null,
      "outputs": [
        {
          "output_type": "execute_result",
          "data": {
            "text/plain": [
              "<matplotlib.image.AxesImage at 0x7fa5065d1410>"
            ]
          },
          "metadata": {},
          "execution_count": 22
        },
        {
          "output_type": "display_data",
          "data": {
            "text/plain": [
              "<Figure size 432x288 with 1 Axes>"
            ],
            "image/png": "[encoded data removed]"
          },
          "metadata": {
            "needs_background": "light"
          }
        }
      ]
    },
    {
      "cell_type": "code",
      "source": [
        "x_test1[0].shape"
      ],
      "metadata": {
        "colab": {
          "base_uri": "https://localhost:8080/"
        },
        "id": "JMEA9xNED9c-",
        "outputId": "db72668d-8f84-4bcf-8a2c-9152b632aecb"
      },
      "execution_count": null,
      "outputs": [
        {
          "output_type": "execute_result",
          "data": {
            "text/plain": [
              "(28, 28, 1)"
            ]
          },
          "metadata": {},
          "execution_count": 23
        }
      ]
    },
    {
      "cell_type": "code",
      "source": [],
      "metadata": {
        "id": "btO3VlRpECX7"
      },
      "execution_count": null,
      "outputs": []
    },
    {
      "cell_type": "code",
      "source": [
        "img=x_test1[0]\n",
        "img=img.reshape(1,28,28,1)\n",
        "encoded_data=encoder.predict(img)\n",
        "encoded_data=encoded_data.reshape(16,16)"
      ],
      "metadata": {
        "id": "S0bQUqa8DlO-"
      },
      "execution_count": null,
      "outputs": []
    },
    {
      "cell_type": "code",
      "source": [
        "encoded_data.shape"
      ],
      "metadata": {
        "colab": {
          "base_uri": "https://localhost:8080/"
        },
        "id": "hjM2x5QOD3Ts",
        "outputId": "6f63bc6d-3b40-489e-c024-33a9974e4d90"
      },
      "execution_count": null,
      "outputs": [
        {
          "output_type": "execute_result",
          "data": {
            "text/plain": [
              "(16, 16)"
            ]
          },
          "metadata": {},
          "execution_count": 25
        }
      ]
    },
    {
      "cell_type": "code",
      "source": [
        "print(\"Endoded data Plot\")\n",
        "plt.imshow(encoded_data)"
      ],
      "metadata": {
        "colab": {
          "base_uri": "https://localhost:8080/",
          "height": 300
        },
        "id": "uvWNEw_DEcps",
        "outputId": "1f2b6113-610e-449f-f288-5a52fd04bc49"
      },
      "execution_count": null,
      "outputs": [
        {
          "output_type": "stream",
          "name": "stdout",
          "text": [
            "Endoded data Plot\n"
          ]
        },
        {
          "output_type": "execute_result",
          "data": {
            "text/plain": [
              "<matplotlib.image.AxesImage at 0x7fa506549ed0>"
            ]
          },
          "metadata": {},
          "execution_count": 26
        },
        {
          "output_type": "display_data",
          "data": {
            "text/plain": [
              "<Figure size 432x288 with 1 Axes>"
            ],
            "image/png": "[encoded data removed]"
          },
          "metadata": {
            "needs_background": "light"
          }
        }
      ]
    },
    {
      "cell_type": "code",
      "source": [],
      "metadata": {
        "id": "m7hxel6pD3XG"
      },
      "execution_count": null,
      "outputs": []
    },
    {
      "cell_type": "code",
      "metadata": {
        "id": "Zxpl2Ks2yred"
      },
      "source": [
        "def Cover_encoder(encoder,img1,path_cover_img):\n",
        "  img1=img1.reshape(1,28,28,1)\n",
        "  k2=encoder.predict(img1)\n",
        "  k2=k2.T\n",
        "  k2=k2.flatten()\n",
        "  k2=np.pad(k2, (0,9744), 'constant')\n",
        "  img=load_img(path_cover_img,grayscale=True,target_size=(100,100))\n",
        "  from keras.preprocessing.image import img_to_array\n",
        "  img1=img_to_array(img)\n",
        "  img1=img1.reshape(10000,1)\n",
        "  img1=img1.flatten()\n",
        "  img2=img1+k2\n",
        "  img3=img2.reshape(100,100,1)\n",
        "  from keras.preprocessing.image import array_to_img\n",
        "  img3=array_to_img(img3)\n",
        "  return img3"
      ],
      "execution_count": null,
      "outputs": []
    },
    {
      "cell_type": "code",
      "metadata": {
        "id": "I9dSY1080U_C"
      },
      "source": [
        "path=\"/content/a.jpg\""
      ],
      "execution_count": null,
      "outputs": []
    },
    {
      "cell_type": "code",
      "source": [
        "load_img(path,grayscale=True,target_size=(100,100))\n"
      ],
      "metadata": {
        "colab": {
          "base_uri": "https://localhost:8080/",
          "height": 172
        },
        "id": "I0F84fD_JJYa",
        "outputId": "4d21168a-c593-4a4a-a673-6d94cf56d3e3"
      },
      "execution_count": null,
      "outputs": [
        {
          "output_type": "stream",
          "name": "stderr",
          "text": [
            "/usr/local/lib/python3.7/dist-packages/keras_preprocessing/image/utils.py:107: UserWarning: grayscale is deprecated. Please use color_mode = \"grayscale\"\n",
            "  warnings.warn('grayscale is deprecated. Please use '\n"
          ]
        },
        {
          "output_type": "execute_result",
          "data": {
            "text/plain": [
              "<PIL.Image.Image image mode=L size=100x100 at 0x7FA5064B0790>"
            ],
            "image/png": "[encoded data removed]"
          },
          "metadata": {},
          "execution_count": 32
        }
      ]
    },
    {
      "cell_type": "code",
      "metadata": {
        "colab": {
          "base_uri": "https://localhost:8080/"
        },
        "id": "4sVTOw4L0VCs",
        "outputId": "5efe5cba-056c-41b2-9a02-57929e006e6d"
      },
      "source": [
        "send_data=Cover_encoder(encoder,x_test1[0],path)"
      ],
      "execution_count": null,
      "outputs": [
        {
          "output_type": "stream",
          "name": "stderr",
          "text": [
            "/usr/local/lib/python3.7/dist-packages/keras_preprocessing/image/utils.py:107: UserWarning: grayscale is deprecated. Please use color_mode = \"grayscale\"\n",
            "  warnings.warn('grayscale is deprecated. Please use '\n"
          ]
        }
      ]
    },
    {
      "cell_type": "code",
      "metadata": {
        "colab": {
          "base_uri": "https://localhost:8080/",
          "height": 117
        },
        "id": "DVcFjjzz0_U_",
        "outputId": "96430e0e-9d29-4185-b585-201e4fcaa7f4"
      },
      "source": [
        "send_data"
      ],
      "execution_count": null,
      "outputs": [
        {
          "output_type": "execute_result",
          "data": {
            "text/plain": [
              "<PIL.Image.Image image mode=L size=100x100 at 0x7FA506549A50>"
            ],
            "image/png": "[encoded data removed]"
          },
          "metadata": {},
          "execution_count": 34
        }
      ]
    },
    {
      "cell_type": "code",
      "metadata": {
        "id": "dmIo-Hrg46tp"
      },
      "source": [
        "def receive_info(decoder,path,send_data):\n",
        "  from keras.preprocessing.image import img_to_array\n",
        "  k=img_to_array(send_data)\n",
        "  img1=k.reshape(10000,1)\n",
        "  img1=img1.flatten()\n",
        "  img=load_img(path,grayscale=True,target_size=(100,100))\n",
        "  img2=img_to_array(img)\n",
        "  img2=img2.reshape(10000,1)\n",
        "  img2=img2.flatten()\n",
        "  k1=img1-img2\n",
        "  k2=k1[0:256]\n",
        "  k2= np.reshape(k2, (256,1))\n",
        "  k2=k2.T\n",
        "  k3=decoder.predict(k2)\n",
        "  k3=k3.reshape(28,28)\n",
        "  return k3\n"
      ],
      "execution_count": null,
      "outputs": []
    },
    {
      "cell_type": "code",
      "metadata": {
        "colab": {
          "base_uri": "https://localhost:8080/"
        },
        "id": "FIV9pkux54IR",
        "outputId": "2b632859-8832-422a-bbf7-9477c7f4d95b"
      },
      "source": [
        "k4=receive_info(decoder,path,send_data)"
      ],
      "execution_count": null,
      "outputs": [
        {
          "output_type": "stream",
          "name": "stderr",
          "text": [
            "/usr/local/lib/python3.7/dist-packages/keras_preprocessing/image/utils.py:107: UserWarning: grayscale is deprecated. Please use color_mode = \"grayscale\"\n",
            "  warnings.warn('grayscale is deprecated. Please use '\n"
          ]
        }
      ]
    },
    {
      "cell_type": "code",
      "metadata": {
        "colab": {
          "base_uri": "https://localhost:8080/",
          "height": 300
        },
        "id": "lo9n5xPX54L8",
        "outputId": "9ebc717f-e085-41b3-8fe9-df589fa75604"
      },
      "source": [
        "print(\"Received Data\")\n",
        "plt.imshow(k4)"
      ],
      "execution_count": null,
      "outputs": [
        {
          "output_type": "stream",
          "name": "stdout",
          "text": [
            "Received Data\n"
          ]
        },
        {
          "output_type": "execute_result",
          "data": {
            "text/plain": [
              "<matplotlib.image.AxesImage at 0x7fa506468b10>"
            ]
          },
          "metadata": {},
          "execution_count": 37
        },
        {
          "output_type": "display_data",
          "data": {
            "text/plain": [
              "<Figure size 432x288 with 1 Axes>"
            ],
            "image/png": "[encoded data removed]"
          },
          "metadata": {
            "needs_background": "light"
          }
        }
      ]
    },
    {
      "cell_type": "code",
      "metadata": {
        "id": "5H0l-cTK6XyF"
      },
      "source": [],
      "execution_count": null,
      "outputs": []
    },
    {
      "cell_type": "code",
      "metadata": {
        "id": "ZaBQU5Ez6X2i"
      },
      "source": [],
      "execution_count": null,
      "outputs": []
    },
    {
      "cell_type": "code",
      "metadata": {
        "id": "_jg8ddpE6X8B"
      },
      "source": [],
      "execution_count": null,
      "outputs": []
    },
    {
      "cell_type": "code",
      "metadata": {
        "id": "WH6Hjeyp6YBN"
      },
      "source": [],
      "execution_count": null,
      "outputs": []
    }
  ]
}